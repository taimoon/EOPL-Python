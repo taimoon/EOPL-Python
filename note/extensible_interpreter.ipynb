{
 "cells": [
  {
   "cell_type": "markdown",
   "metadata": {},
   "source": [
    "# Setup"
   ]
  },
  {
   "cell_type": "code",
   "execution_count": 1,
   "metadata": {},
   "outputs": [],
   "source": [
    "from dataclasses import dataclass"
   ]
  },
  {
   "cell_type": "code",
   "execution_count": 2,
   "metadata": {},
   "outputs": [],
   "source": [
    "@dataclass\n",
    "class Env:\n",
    "    env:tuple = tuple()\n",
    "    \n",
    "    def extend(self,bindings:dict):\n",
    "        return Env((bindings,) + self.env)\n",
    "    \n",
    "    def extend_from_vars_vals(self,vars,vals):\n",
    "        bindings = dict(zip(vars,vals))\n",
    "        return self.extend(bindings)\n",
    "    \n",
    "    @property\n",
    "    def current_frame(self):\n",
    "        return self.env[0]\n",
    "    \n",
    "    @property\n",
    "    def enclosed_env(self):\n",
    "        return Env(self.env[1:])\n",
    "    \n",
    "    def is_empty(self):\n",
    "        return self.env == ()\n",
    "    \n",
    "    def lookup(self,var):\n",
    "        if self.is_empty():\n",
    "            raise NameError(f\"{var} is undefined\")\n",
    "        elif var not in self.current_frame:\n",
    "            return self.enclosed_env.lookup(var)\n",
    "        else:\n",
    "            return self.current_frame[var]\n",
    "        \n",
    "    def __str__(self) -> str:\n",
    "        return str(tuple(tuple(env.keys()) for env in self.env))"
   ]
  },
  {
   "cell_type": "code",
   "execution_count": 3,
   "metadata": {},
   "outputs": [],
   "source": [
    "Exp_Val = bool|int|float\n",
    "\n",
    "@dataclass\n",
    "class Const:\n",
    "    val:Exp_Val\n",
    "    def __iter__(self):\n",
    "        return iter((\"Const\",self.val))\n",
    "\n",
    "@dataclass\n",
    "class Prim:\n",
    "    op:str\n",
    "    exps:tuple\n",
    "    def __iter__(self):\n",
    "        return iter(('Prim',self.op,*self.exps))\n",
    "\n",
    "@dataclass\n",
    "class Let:\n",
    "    var:str\n",
    "    exp:None\n",
    "    body:None\n",
    "    def __iter__(self):\n",
    "        return iter((\"Let\",self.var,self.exp,self.body))\n",
    "\n",
    "@dataclass\n",
    "class Var:\n",
    "    var:str\n",
    "    def __iter__(self):\n",
    "        return iter((\"Var\",self.var))"
   ]
  },
  {
   "cell_type": "markdown",
   "metadata": {},
   "source": [
    "# Problem"
   ]
  },
  {
   "cell_type": "code",
   "execution_count": 10,
   "metadata": {},
   "outputs": [
    {
     "name": "stdout",
     "output_type": "stream",
     "text": [
      "lang_int_interp Unknown Expression:  ('Var', 'y')\n",
      "\n"
     ]
    }
   ],
   "source": [
    "def lang_int_interp(exp,env:Env = None):\n",
    "    from operator import sub,add,mul,truediv\n",
    "    prim_op = {\n",
    "        '-':sub,\n",
    "        '+':add,\n",
    "        '*':mul,\n",
    "        '/':truediv\n",
    "    }\n",
    "    interp = lambda exp: lang_int_interp(exp,env)\n",
    "    match tuple(exp):\n",
    "        case (\"Const\",val):\n",
    "            return val\n",
    "        case (\"Prim\",op,left,right) if op in prim_op:\n",
    "            left = interp(left)\n",
    "            right = interp(right)\n",
    "            prim_op = prim_op[op]\n",
    "            return prim_op(left,right)\n",
    "        case (\"Prim\",'-',exp):\n",
    "            return - interp(exp)\n",
    "        case _:\n",
    "            print('lang_int_interp Unknown Expression: ', tuple(exp))\n",
    "            raise NotImplementedError\n",
    "\n",
    "def lang_let_interp(exp,env:Env):\n",
    "    interp = lang_let_interp\n",
    "    match tuple(exp):\n",
    "        case (\"Let\",var,exp_val,body):\n",
    "            val = interp(exp_val,env)\n",
    "            new_env = env.extend_from_vars_vals((var,),(val,))\n",
    "            return interp(body,new_env)\n",
    "        case (\"Var\",var):\n",
    "            return env.lookup(var)\n",
    "        case _:\n",
    "            return lang_int_interp(exp,env)\n",
    "\n",
    "try:\n",
    "    interp = lang_let_interp\n",
    "    exp = Prim('+',(Prim('*',(Const(10),Prim('/',(Const(9),Const(5))))),Const(32)))\n",
    "    val = interp(exp,Env())\n",
    "    assert(val == 50)\n",
    "    \n",
    "    exp = Let('y',Const(10),\n",
    "                Prim('-',(Var('y'),)))\n",
    "    interp(exp,Env())\n",
    "except NotImplementedError as e:\n",
    "    print(e)"
   ]
  },
  {
   "cell_type": "markdown",
   "metadata": {},
   "source": [
    "# Solution : OOP - Inheritance"
   ]
  },
  {
   "cell_type": "code",
   "execution_count": 5,
   "metadata": {},
   "outputs": [
    {
     "data": {
      "text/plain": [
       "-10"
      ]
     },
     "execution_count": 5,
     "metadata": {},
     "output_type": "execute_result"
    }
   ],
   "source": [
    "class Lang_Int_Interpreter:\n",
    "    from operator import sub,add,mul,truediv\n",
    "    prim_op = {\n",
    "        '-':sub,\n",
    "        '+':add,\n",
    "        '*':mul,\n",
    "        '/':truediv\n",
    "    }\n",
    "    def interp(self,exp,env:Env = None):\n",
    "        interp = lambda exp: self.interp(exp,env)\n",
    "        prim_op = Lang_Int_Interpreter.prim_op\n",
    "        match tuple(exp):\n",
    "            case (\"Const\",val):\n",
    "                return val\n",
    "            case (\"Prim\",op,left,right) if op in prim_op:\n",
    "                left = interp(left)\n",
    "                right = interp(right)\n",
    "                return prim_op[op](left,right)\n",
    "            case (\"Prim\",'-',exp):\n",
    "                return - interp(exp)\n",
    "            case _:\n",
    "                print('lang_int_interp Unknown Expression: ', tuple(exp))\n",
    "                raise NotImplementedError\n",
    "\n",
    "class Lang_Var_Interpreter(Lang_Int_Interpreter):\n",
    "    def interp(self,exp,env:Env):\n",
    "        interp = self.interp\n",
    "        match tuple(exp):\n",
    "            case (\"Let\",var,exp_val,body):\n",
    "                val = interp(exp_val,env)\n",
    "                new_env = env.extend_from_vars_vals((var,),(val,))\n",
    "                return interp(body,new_env)\n",
    "            case (\"Var\",var):\n",
    "                return env.lookup(var)\n",
    "            case _:\n",
    "                return super(Lang_Var_Interpreter,self).interp(exp,env)\n",
    "\n",
    "\n",
    "interp = Lang_Var_Interpreter().interp\n",
    "exp = Prim('+',(Prim('*',(Const(10),Prim('/',(Const(9),Const(5))))),Const(32)))\n",
    "\n",
    "val = interp(exp,Env())\n",
    "assert(val == 50)\n",
    "\n",
    "exp = Let('y',Const(10),\n",
    "              Prim('-',(Var('y'),)))\n",
    "interp(exp,Env())"
   ]
  },
  {
   "cell_type": "markdown",
   "metadata": {},
   "source": [
    "# Solution : OOP - Fowarding"
   ]
  },
  {
   "cell_type": "code",
   "execution_count": 9,
   "metadata": {},
   "outputs": [
    {
     "data": {
      "text/plain": [
       "-10"
      ]
     },
     "execution_count": 9,
     "metadata": {},
     "output_type": "execute_result"
    }
   ],
   "source": [
    "class Lang_Int_Interpreter:\n",
    "    from operator import sub,add,mul,truediv\n",
    "    prim_op = {\n",
    "        '-':sub,\n",
    "        '+':add,\n",
    "        '*':mul,\n",
    "        '/':truediv\n",
    "    }\n",
    "    def interp(self,exp,env:Env = None):\n",
    "        interp = lambda exp: self.interp(exp,env)\n",
    "        prim_op = Lang_Int_Interpreter.prim_op\n",
    "        match tuple(exp):\n",
    "            case (\"Const\",val):\n",
    "                return val\n",
    "            case (\"Prim\",op,left,right) if op in prim_op:\n",
    "                left = interp(left)\n",
    "                right = interp(right)\n",
    "                return prim_op[op](left,right)\n",
    "            case (\"Prim\",'-',exp):\n",
    "                return - interp(exp)\n",
    "            case _:\n",
    "                print('lang_int_interp Unknown Expression: ', tuple(exp))\n",
    "                raise NotImplementedError\n",
    "\n",
    "class Lang_Var_Interpreter:\n",
    "    def interp(self,exp,env:Env):\n",
    "        interp = self.interp\n",
    "        match tuple(exp):\n",
    "            case (\"Let\",var,exp_val,body):\n",
    "                val = interp(exp_val,env)\n",
    "                new_env = env.extend_from_vars_vals((var,),(val,))\n",
    "                return interp(body,new_env)\n",
    "            case (\"Var\",var):\n",
    "                return env.lookup(var)\n",
    "            case _:\n",
    "                return Lang_Int_Interpreter.interp(self,exp,env)\n",
    "\n",
    "\n",
    "interp = Lang_Var_Interpreter().interp\n",
    "\n",
    "exp = Prim('+',(Prim('*',(Const(10),Prim('/',(Const(9),Const(5))))),Const(32)))\n",
    "val = interp(exp,Env())\n",
    "assert(val == 50)\n",
    "\n",
    "exp = Let('y',Const(10),\n",
    "              Prim('-',(Var('y'),)))\n",
    "interp(exp,Env())"
   ]
  },
  {
   "cell_type": "markdown",
   "metadata": {},
   "source": [
    "# Pass Interpreter - Workaround"
   ]
  },
  {
   "cell_type": "code",
   "execution_count": 8,
   "metadata": {},
   "outputs": [
    {
     "data": {
      "text/plain": [
       "-10"
      ]
     },
     "execution_count": 8,
     "metadata": {},
     "output_type": "execute_result"
    }
   ],
   "source": [
    "def lang_int_interp(exp,env:Env = None,interp=None):\n",
    "    from operator import sub,add,mul,truediv\n",
    "    prim_op = {\n",
    "        '-':sub,\n",
    "        '+':add,\n",
    "        '*':mul,\n",
    "        '/':truediv\n",
    "    }\n",
    "    _interp = lang_int_interp if interp is None else interp\n",
    "    interp = lambda exp: _interp(exp,env)\n",
    "    match tuple(exp):\n",
    "        case (\"Const\",val):\n",
    "            return val\n",
    "        case (\"Prim\",op,left,right) if op in prim_op:\n",
    "            left = interp(left)\n",
    "            right = interp(right)\n",
    "            prim_op = prim_op[op]\n",
    "            return prim_op(left,right)\n",
    "        case (\"Prim\",'-',exp):\n",
    "            return - interp(exp)\n",
    "        case _:\n",
    "            print('lang_int_interp Unknown Expression: ', tuple(exp))\n",
    "            raise NotImplementedError\n",
    "\n",
    "def lang_let_interp(exp,env:Env,interp=None):\n",
    "    interp = lang_let_interp if interp is None else interp\n",
    "    match tuple(exp):\n",
    "        case (\"Let\",var,exp_val,body):\n",
    "            val = interp(exp_val,env)\n",
    "            new_env = env.extend_from_vars_vals((var,),(val,))\n",
    "            return interp(body,new_env)\n",
    "        case (\"Var\",var):\n",
    "            return env.lookup(var)\n",
    "        case _:\n",
    "            return lang_int_interp(exp,env,interp)\n",
    "\n",
    "interp = lang_let_interp\n",
    "exp = Prim('+',(Prim('*',(Const(10),Prim('/',(Const(9),Const(5))))),Const(32)))\n",
    "\n",
    "val = interp(exp,Env())\n",
    "assert(val == 50)\n",
    "\n",
    "exp = Let('y',Const(10),\n",
    "              Prim('-',(Var('y'),)))\n",
    "interp(exp,Env())"
   ]
  }
 ],
 "metadata": {
  "kernelspec": {
   "display_name": "Python 3",
   "language": "python",
   "name": "python3"
  },
  "language_info": {
   "codemirror_mode": {
    "name": "ipython",
    "version": 3
   },
   "file_extension": ".py",
   "mimetype": "text/x-python",
   "name": "python",
   "nbconvert_exporter": "python",
   "pygments_lexer": "ipython3",
   "version": "3.10.11"
  },
  "orig_nbformat": 4
 },
 "nbformat": 4,
 "nbformat_minor": 2
}
