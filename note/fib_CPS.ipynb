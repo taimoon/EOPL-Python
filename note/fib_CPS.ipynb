{
 "cells": [
  {
   "cell_type": "markdown",
   "metadata": {},
   "source": [
    "# Recursive"
   ]
  },
  {
   "cell_type": "code",
   "execution_count": 1,
   "metadata": {},
   "outputs": [
    {
     "data": {
      "text/plain": [
       "89"
      ]
     },
     "execution_count": 1,
     "metadata": {},
     "output_type": "execute_result"
    }
   ],
   "source": [
    "from operator import add\n",
    "def fib(n):\n",
    "    if n <= 2:\n",
    "        return n\n",
    "    else:\n",
    "        return add(fib(n-1),fib(n-2))\n",
    "fib(10)"
   ]
  },
  {
   "cell_type": "markdown",
   "metadata": {},
   "source": [
    "# Procedural"
   ]
  },
  {
   "cell_type": "code",
   "execution_count": 2,
   "metadata": {},
   "outputs": [
    {
     "name": "stdout",
     "output_type": "stream",
     "text": [
      "end of continuation\n"
     ]
    },
    {
     "data": {
      "text/plain": [
       "89"
      ]
     },
     "execution_count": 2,
     "metadata": {},
     "output_type": "execute_result"
    }
   ],
   "source": [
    "def end_cc(n):\n",
    "    print('end of continuation')\n",
    "    return n\n",
    "\n",
    "def fib2_cc(cc,w):\n",
    "    return lambda v: cc(add(w,v))\n",
    "\n",
    "def fib1_cc(cc,n):\n",
    "    return lambda w: fib_k(n-2,fib2_cc(cc,w))\n",
    "\n",
    "def fib_k(n,cc=end_cc):\n",
    "    if n <= 2:\n",
    "        return cc(n)\n",
    "    else:\n",
    "        return fib_k(n-1,fib1_cc(cc,n))\n",
    "\n",
    "fib_k(10)"
   ]
  },
  {
   "cell_type": "markdown",
   "metadata": {},
   "source": [
    "# Data Structure"
   ]
  },
  {
   "cell_type": "code",
   "execution_count": 3,
   "metadata": {},
   "outputs": [
    {
     "name": "stdout",
     "output_type": "stream",
     "text": [
      "end of continuation\n"
     ]
    },
    {
     "data": {
      "text/plain": [
       "89"
      ]
     },
     "execution_count": 3,
     "metadata": {},
     "output_type": "execute_result"
    }
   ],
   "source": [
    "from dataclasses import dataclass\n",
    "from typing import Callable\n",
    "\n",
    "@dataclass\n",
    "class Cont:\n",
    "    cc:Callable[[int],int]\n",
    "\n",
    "@dataclass\n",
    "class End_cc(Cont):\n",
    "    cc:Callable[[int],int] = None\n",
    "\n",
    "@dataclass\n",
    "class Fib1_cc(Cont):\n",
    "    n:int\n",
    "    \n",
    "@dataclass\n",
    "class Fib2_cc(Cont):\n",
    "    v1:int\n",
    "\n",
    "def fib_cc(cc,v):\n",
    "    return Fib1_cc(cc,v)\n",
    "\n",
    "def apply_cc(cc:Cont,v:int):\n",
    "    if isinstance(cc,End_cc):\n",
    "        print('end of continuation')\n",
    "        return v\n",
    "    elif isinstance(cc,Fib2_cc):\n",
    "        return apply_cc(cc.cc,add(cc.v1,v))\n",
    "    elif isinstance(cc,Fib1_cc):\n",
    "        return fib_k(cc.n-2,Fib2_cc(cc.cc,v))\n",
    "    else:\n",
    "        print(cc)\n",
    "        raise NotImplementedError\n",
    "\n",
    "def fib_k(n,cc=End_cc()):\n",
    "    if n <= 2:\n",
    "        return apply_cc(cc,n)\n",
    "    else:\n",
    "        return fib_k(n-1,fib_cc(cc,n))\n",
    "\n",
    "fib_k(10)"
   ]
  },
  {
   "cell_type": "markdown",
   "metadata": {},
   "source": [
    "# Inline"
   ]
  },
  {
   "cell_type": "code",
   "execution_count": 4,
   "metadata": {},
   "outputs": [
    {
     "name": "stdout",
     "output_type": "stream",
     "text": [
      "end of continuation\n"
     ]
    },
    {
     "data": {
      "text/plain": [
       "89"
      ]
     },
     "execution_count": 4,
     "metadata": {},
     "output_type": "execute_result"
    }
   ],
   "source": [
    "def fib_k(n,cc=end_cc):\n",
    "    if n <= 2:\n",
    "        return cc(n)\n",
    "    else:\n",
    "        return fib_k(n-1,lambda val_1: fib_k(n-2,lambda val_2: cc(add(val_1,val_2))))\n",
    "fib_k(10)"
   ]
  },
  {
   "cell_type": "markdown",
   "metadata": {},
   "source": [
    "# Registerized"
   ]
  },
  {
   "cell_type": "code",
   "execution_count": 5,
   "metadata": {},
   "outputs": [
    {
     "name": "stdout",
     "output_type": "stream",
     "text": [
      "end of continuation\n",
      "Registers(v=89, n=2, cc=None)\n"
     ]
    }
   ],
   "source": [
    "@dataclass\n",
    "class Registers:\n",
    "    v:None = None\n",
    "    n:None = None\n",
    "    cc:None = None\n",
    "\n",
    "REG = Registers()\n",
    "\n",
    "def fib(n):\n",
    "    REG.cc = End_cc()\n",
    "    REG.n = n\n",
    "    fib_k()\n",
    "\n",
    "def apply_cc():\n",
    "    cc = REG.cc\n",
    "    if isinstance(cc,End_cc):\n",
    "        print('end of continuation')\n",
    "        REG.cc = None\n",
    "    elif isinstance(cc,Fib2_cc):\n",
    "        REG.v = add(REG.v,cc.v1)\n",
    "        REG.cc = cc.cc\n",
    "        apply_cc()\n",
    "    elif isinstance(cc,Fib1_cc):\n",
    "        REG.cc = Fib2_cc(cc.cc,REG.v)\n",
    "        REG.n = cc.n-2\n",
    "        fib_k()\n",
    "    else:\n",
    "        print(cc)\n",
    "        raise NotImplementedError\n",
    "\n",
    "def fib_cc(cc,n):\n",
    "    return Fib1_cc(cc,n)\n",
    "\n",
    "def fib_k():\n",
    "    n = REG.n\n",
    "    cc = REG.cc\n",
    "    if n <= 2:\n",
    "        REG.v = n\n",
    "        apply_cc()\n",
    "    else:\n",
    "        REG.cc = fib_cc(cc,n)\n",
    "        REG.n = n-1\n",
    "        fib_k()\n",
    "\n",
    "fib(10)\n",
    "print(REG)"
   ]
  }
 ],
 "metadata": {
  "kernelspec": {
   "display_name": "Python 3",
   "language": "python",
   "name": "python3"
  },
  "language_info": {
   "codemirror_mode": {
    "name": "ipython",
    "version": 3
   },
   "file_extension": ".py",
   "mimetype": "text/x-python",
   "name": "python",
   "nbconvert_exporter": "python",
   "pygments_lexer": "ipython3",
   "version": "3.10.11"
  },
  "orig_nbformat": 4
 },
 "nbformat": 4,
 "nbformat_minor": 2
}
