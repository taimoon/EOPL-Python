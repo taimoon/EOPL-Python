{
 "cells": [
  {
   "cell_type": "markdown",
   "metadata": {},
   "source": [
    "# Recursive"
   ]
  },
  {
   "cell_type": "code",
   "execution_count": 1,
   "metadata": {},
   "outputs": [
    {
     "data": {
      "text/plain": [
       "(5040, 5040)"
      ]
     },
     "execution_count": 1,
     "metadata": {},
     "output_type": "execute_result"
    }
   ],
   "source": [
    "from operator import mul\n",
    "def fact(n):\n",
    "    if n <= 1:\n",
    "        return 1\n",
    "    else:\n",
    "        return mul(n,fact(n-1))\n",
    "def fact_iter(n,k=1):\n",
    "    if n <= 1:\n",
    "        return k\n",
    "    else:\n",
    "        return fact_iter(n-1,k*n)\n",
    "\n",
    "fact(7),fact_iter(7)"
   ]
  },
  {
   "cell_type": "markdown",
   "metadata": {},
   "source": [
    "# Data Structure Representation of Continuation"
   ]
  },
  {
   "cell_type": "code",
   "execution_count": 2,
   "metadata": {},
   "outputs": [
    {
     "name": "stdout",
     "output_type": "stream",
     "text": [
      "1 \t Fact_cc(cc=Fact_cc(cc=Fact_cc(cc=Fact_cc(cc=Fact_cc(cc=Fact_cc(cc=End_cc(cc=None), n=7), n=6), n=5), n=4), n=3), n=2)\n",
      "2 \t Fact_cc(cc=Fact_cc(cc=Fact_cc(cc=Fact_cc(cc=Fact_cc(cc=End_cc(cc=None), n=7), n=6), n=5), n=4), n=3)\n",
      "6 \t Fact_cc(cc=Fact_cc(cc=Fact_cc(cc=Fact_cc(cc=End_cc(cc=None), n=7), n=6), n=5), n=4)\n",
      "24 \t Fact_cc(cc=Fact_cc(cc=Fact_cc(cc=End_cc(cc=None), n=7), n=6), n=5)\n",
      "120 \t Fact_cc(cc=Fact_cc(cc=End_cc(cc=None), n=7), n=6)\n",
      "720 \t Fact_cc(cc=End_cc(cc=None), n=7)\n",
      "5040 \t End_cc(cc=None)\n",
      "end of continuation\n"
     ]
    },
    {
     "data": {
      "text/plain": [
       "5040"
      ]
     },
     "execution_count": 2,
     "metadata": {},
     "output_type": "execute_result"
    }
   ],
   "source": [
    "from dataclasses import dataclass\n",
    "from typing import Callable\n",
    "\n",
    "@dataclass\n",
    "class Cont:\n",
    "    cc:Callable[[int],int]\n",
    "\n",
    "@dataclass\n",
    "class End_cc(Cont):\n",
    "    cc:Callable[[int],int] = None\n",
    "\n",
    "@dataclass\n",
    "class Fact_cc(Cont):\n",
    "    n:int\n",
    "\n",
    "def fact_cc(cc,n):\n",
    "    return Fact_cc(cc,n)\n",
    "\n",
    "def apply_cc(cc:Cont,v:int):\n",
    "    print(v,'\\t',cc)\n",
    "    if isinstance(cc,End_cc):\n",
    "        print('end of continuation')\n",
    "        return v\n",
    "    elif isinstance(cc,Fact_cc):\n",
    "        return apply_cc(cc.cc,mul(cc.n,v))\n",
    "    else:\n",
    "        print(cc)\n",
    "        raise NotImplementedError\n",
    "\n",
    "def fact_k(n,cc):\n",
    "    if n <= 1:\n",
    "        return apply_cc(cc,1)\n",
    "    else:\n",
    "        return fact_k(n-1,fact_cc(cc,n))\n",
    "fact_k(7,End_cc())"
   ]
  },
  {
   "cell_type": "markdown",
   "metadata": {},
   "source": [
    "# Registerized"
   ]
  },
  {
   "cell_type": "code",
   "execution_count": 3,
   "metadata": {},
   "outputs": [
    {
     "name": "stdout",
     "output_type": "stream",
     "text": [
      "Registers(v=1, n=1, cc=Fact_cc(cc=Fact_cc(cc=Fact_cc(cc=Fact_cc(cc=End_cc(cc=None), n=5), n=4), n=3), n=2))\n",
      "Registers(v=2, n=2, cc=Fact_cc(cc=Fact_cc(cc=Fact_cc(cc=End_cc(cc=None), n=5), n=4), n=3))\n",
      "Registers(v=6, n=3, cc=Fact_cc(cc=Fact_cc(cc=End_cc(cc=None), n=5), n=4))\n",
      "Registers(v=24, n=4, cc=Fact_cc(cc=End_cc(cc=None), n=5))\n",
      "Registers(v=120, n=5, cc=End_cc(cc=None))\n",
      "end of continuation\n"
     ]
    }
   ],
   "source": [
    "@dataclass\n",
    "class Registers:\n",
    "    v:None = None\n",
    "    n:None = None\n",
    "    cc:None = None\n",
    "\n",
    "REG = Registers()\n",
    "\n",
    "def fact(n):\n",
    "    REG.n = n\n",
    "    REG.cc = End_cc()\n",
    "    fact_k()\n",
    "\n",
    "def fact_k():\n",
    "    n = REG.n\n",
    "    cc = REG.cc\n",
    "    if n <= 1:\n",
    "        REG.v = 1\n",
    "        apply_cc()\n",
    "    else:\n",
    "        REG.cc = fact_cc(cc,n)\n",
    "        REG.n = n - 1\n",
    "        fact_k()\n",
    "\n",
    "def apply_cc():\n",
    "    print(REG)\n",
    "    cc = REG.cc\n",
    "    if isinstance(cc,End_cc):\n",
    "        REG.cc = None\n",
    "        print('end of continuation')\n",
    "    elif isinstance(cc,Fact_cc):\n",
    "        REG.n = cc.n\n",
    "        REG.v = mul(REG.n,REG.v)\n",
    "        REG.cc = cc.cc\n",
    "        apply_cc()\n",
    "    else:\n",
    "        print(cc)\n",
    "        raise NotImplementedError\n",
    "        \n",
    "fact(5)"
   ]
  },
  {
   "cell_type": "markdown",
   "metadata": {},
   "source": [
    "# Registerized and Imperative"
   ]
  },
  {
   "cell_type": "code",
   "execution_count": 4,
   "metadata": {},
   "outputs": [
    {
     "name": "stdout",
     "output_type": "stream",
     "text": [
      "Registers(pc=<function apply_cc at 0x0000022CCB175750>, v=1, n=1, cc=Fact_cc(cc=Fact_cc(cc=Fact_cc(cc=Fact_cc(cc=End_cc(cc=None), n=5), n=4), n=3), n=2))\n",
      "Registers(pc=<function apply_cc at 0x0000022CCB175750>, v=2, n=2, cc=Fact_cc(cc=Fact_cc(cc=Fact_cc(cc=End_cc(cc=None), n=5), n=4), n=3))\n",
      "Registers(pc=<function apply_cc at 0x0000022CCB175750>, v=6, n=3, cc=Fact_cc(cc=Fact_cc(cc=End_cc(cc=None), n=5), n=4))\n",
      "Registers(pc=<function apply_cc at 0x0000022CCB175750>, v=24, n=4, cc=Fact_cc(cc=End_cc(cc=None), n=5))\n",
      "Registers(pc=<function apply_cc at 0x0000022CCB175750>, v=120, n=5, cc=End_cc(cc=None))\n",
      "end of continuation\n"
     ]
    },
    {
     "data": {
      "text/plain": [
       "120"
      ]
     },
     "execution_count": 4,
     "metadata": {},
     "output_type": "execute_result"
    }
   ],
   "source": [
    "from dataclasses import dataclass\n",
    "\n",
    "@dataclass\n",
    "class Registers:\n",
    "    pc:None = None\n",
    "    v:None = None\n",
    "    n:None = None\n",
    "    cc:None = None\n",
    "\n",
    "REG = Registers()\n",
    "\n",
    "def fact(n):\n",
    "    REG.n = n\n",
    "    REG.cc = End_cc()\n",
    "    REG.pc = fact_k\n",
    "\n",
    "def trampoline():\n",
    "    while REG.pc:\n",
    "        REG.pc()\n",
    "    \n",
    "    return REG.v\n",
    "\n",
    "def fact_k():\n",
    "    n = REG.n\n",
    "    cc = REG.cc\n",
    "    if n <= 1:\n",
    "        REG.v = 1\n",
    "        REG.pc = apply_cc\n",
    "    else:\n",
    "        REG.cc = fact_cc(cc,n)\n",
    "        REG.n = n - 1\n",
    "        REG.pc = fact_k\n",
    "\n",
    "def apply_cc():\n",
    "    print(REG)\n",
    "    cc = REG.cc\n",
    "    if isinstance(cc,End_cc):\n",
    "        REG.cc = None\n",
    "        REG.pc = False\n",
    "        print('end of continuation')\n",
    "    elif isinstance(cc,Fact_cc):\n",
    "        REG.n = cc.n\n",
    "        REG.v = mul(REG.n,REG.v)\n",
    "        REG.cc = cc.cc\n",
    "        # why still work without this line?\n",
    "        # REG.pc = apply_cc\n",
    "    else:\n",
    "        print(cc)\n",
    "        raise NotImplementedError\n",
    "        \n",
    "fact(5)\n",
    "trampoline()"
   ]
  },
  {
   "cell_type": "markdown",
   "metadata": {},
   "source": [
    "# Procedural Representation of Continuation"
   ]
  },
  {
   "cell_type": "code",
   "execution_count": 5,
   "metadata": {},
   "outputs": [
    {
     "name": "stdout",
     "output_type": "stream",
     "text": [
      "end of continuation\n",
      "end of continuation\n"
     ]
    },
    {
     "data": {
      "text/plain": [
       "(5040, 5040)"
      ]
     },
     "execution_count": 5,
     "metadata": {},
     "output_type": "execute_result"
    }
   ],
   "source": [
    "def end_cc(n):\n",
    "    print('end of continuation')\n",
    "    return n\n",
    "\n",
    "def apply_cc(cc,v):\n",
    "    return cc(v)\n",
    "\n",
    "def fact_cc(cc,n):\n",
    "    return lambda v: apply_cc(cc,mul(n,v))\n",
    "\n",
    "def fact_k(n,cc=end_cc):\n",
    "    if n <= 1:\n",
    "        return apply_cc(cc,1)\n",
    "    else:\n",
    "        return fact_k(n-1,fact_cc(cc,n))\n",
    "\n",
    "def fact_iter_k(n,k=1,cc=end_cc):\n",
    "    if n <= 1:\n",
    "        return apply_cc(cc,k)\n",
    "    else:\n",
    "        return fact_iter_k(n-1,k*n,cc) # tail-call doesn't need new continuation\n",
    "\n",
    "fact_k(7),fact_iter_k(7)"
   ]
  },
  {
   "cell_type": "markdown",
   "metadata": {},
   "source": [
    "# Inlined Procedural Continuation"
   ]
  },
  {
   "cell_type": "code",
   "execution_count": 6,
   "metadata": {},
   "outputs": [
    {
     "name": "stdout",
     "output_type": "stream",
     "text": [
      "end of continuation\n"
     ]
    },
    {
     "data": {
      "text/plain": [
       "5040"
      ]
     },
     "execution_count": 6,
     "metadata": {},
     "output_type": "execute_result"
    }
   ],
   "source": [
    "def fact_k(n,cc=end_cc):\n",
    "    if n <= 1:\n",
    "        return cc(1)\n",
    "    else:\n",
    "        return fact_k(n-1,lambda v: cc(mul(n,v)))\n",
    "fact_k(7)"
   ]
  }
 ],
 "metadata": {
  "kernelspec": {
   "display_name": "Python 3",
   "language": "python",
   "name": "python3"
  },
  "language_info": {
   "codemirror_mode": {
    "name": "ipython",
    "version": 3
   },
   "file_extension": ".py",
   "mimetype": "text/x-python",
   "name": "python",
   "nbconvert_exporter": "python",
   "pygments_lexer": "ipython3",
   "version": "3.10.11"
  },
  "orig_nbformat": 4
 },
 "nbformat": 4,
 "nbformat_minor": 2
}
