{
 "cells": [
  {
   "cell_type": "code",
   "execution_count": 2,
   "metadata": {},
   "outputs": [
    {
     "data": {
      "text/plain": [
       "45"
      ]
     },
     "execution_count": 2,
     "metadata": {},
     "output_type": "execute_result"
    }
   ],
   "source": [
    "from operator import add\n",
    "def list_sum(xs):\n",
    "    if xs == []: \n",
    "        return 0\n",
    "    else:\n",
    "        return add(xs[0],list_sum(xs[1:]))\n",
    "list_sum(list(range(10)))"
   ]
  },
  {
   "cell_type": "markdown",
   "metadata": {},
   "source": [
    "# Data Structure Representation"
   ]
  },
  {
   "cell_type": "code",
   "execution_count": 3,
   "metadata": {},
   "outputs": [
    {
     "name": "stdout",
     "output_type": "stream",
     "text": [
      "end of continuation\n"
     ]
    },
    {
     "data": {
      "text/plain": [
       "45"
      ]
     },
     "execution_count": 3,
     "metadata": {},
     "output_type": "execute_result"
    }
   ],
   "source": [
    "from dataclasses import dataclass\n",
    "from typing import Callable\n",
    "\n",
    "@dataclass\n",
    "class Cont:\n",
    "    cc:Callable[[int],int]\n",
    "\n",
    "@dataclass\n",
    "class End_cc(Cont):\n",
    "    cc:Callable[[int],int] = None\n",
    "\n",
    "@dataclass\n",
    "class List_Sum_Cont(Cont):\n",
    "    x:int\n",
    "\n",
    "def apply_cc(cc:Cont,val):\n",
    "    if isinstance(cc,End_cc):\n",
    "        print('end of continuation')\n",
    "        return val\n",
    "    elif isinstance(cc,List_Sum_Cont):\n",
    "        return apply_cc(cc.cc,cc.x + val)\n",
    "    else:\n",
    "        raise NotImplementedError(cc)\n",
    "    \n",
    "def list_sum_cc(x,cc):\n",
    "    return List_Sum_Cont(cc,x)\n",
    "\n",
    "def list_sum_k(xs,cc=End_cc()):\n",
    "    if xs == []:\n",
    "        return apply_cc(cc,0)\n",
    "    else:\n",
    "        return list_sum_k(xs[1:],list_sum_cc(xs[0],cc))\n",
    "        \n",
    "list_sum_k(list(range(10)))"
   ]
  },
  {
   "cell_type": "markdown",
   "metadata": {},
   "source": [
    "# Registerized"
   ]
  },
  {
   "cell_type": "code",
   "execution_count": 12,
   "metadata": {},
   "outputs": [
    {
     "name": "stdout",
     "output_type": "stream",
     "text": [
      "end of continuation\n"
     ]
    },
    {
     "data": {
      "text/plain": [
       "45"
      ]
     },
     "execution_count": 12,
     "metadata": {},
     "output_type": "execute_result"
    }
   ],
   "source": [
    "@dataclass\n",
    "class Registers:\n",
    "    v:None = None\n",
    "    xs:None = None    \n",
    "    cc:None = None\n",
    "\n",
    "reg = Registers()\n",
    "    \n",
    "def list_sum(xs):\n",
    "    reg.cc = End_cc()\n",
    "    reg.xs = xs\n",
    "    list_sum_k()\n",
    "    return reg.v\n",
    "\n",
    "def apply_cc():\n",
    "    cc = reg.cc\n",
    "    val = reg.v\n",
    "    if isinstance(cc,End_cc):\n",
    "        print('end of continuation')\n",
    "        reg.v = val\n",
    "    elif isinstance(cc,List_Sum_Cont):\n",
    "        reg.cc = cc.cc\n",
    "        reg.v = cc.x + val\n",
    "        apply_cc()\n",
    "    else:\n",
    "        raise NotImplementedError(cc)\n",
    "    \n",
    "def list_sum_cc(x,cc):\n",
    "    return List_Sum_Cont(cc,x)\n",
    "\n",
    "def list_sum_k():\n",
    "    xs = reg.xs\n",
    "    if xs == []:\n",
    "        reg.v = 0\n",
    "        apply_cc()\n",
    "    else:\n",
    "        reg.cc = list_sum_cc(xs[0],reg.cc)\n",
    "        reg.xs = xs[1:]\n",
    "        list_sum_k()\n",
    "        \n",
    "list_sum(list(range(10)))"
   ]
  },
  {
   "cell_type": "markdown",
   "metadata": {},
   "source": [
    "# Procedural"
   ]
  },
  {
   "cell_type": "code",
   "execution_count": null,
   "metadata": {},
   "outputs": [
    {
     "name": "stdout",
     "output_type": "stream",
     "text": [
      "end of continuation\n"
     ]
    },
    {
     "data": {
      "text/plain": [
       "45"
      ]
     },
     "execution_count": 4,
     "metadata": {},
     "output_type": "execute_result"
    }
   ],
   "source": [
    "def end_cc(x):\n",
    "    print('end of continuation')\n",
    "    return x\n",
    "\n",
    "def list_sum_cc(x,cc):\n",
    "    return lambda v: cc(add(x,v))\n",
    "\n",
    "def list_sum_k(xs,cc=end_cc):\n",
    "    if xs == []:\n",
    "        return cc(0)\n",
    "    else:\n",
    "        return list_sum_k(xs[1:],list_sum_cc(xs[0],cc))\n",
    "        \n",
    "list_sum_k(list(range(10)))"
   ]
  },
  {
   "cell_type": "markdown",
   "metadata": {},
   "source": [
    "# Inline"
   ]
  },
  {
   "cell_type": "code",
   "execution_count": null,
   "metadata": {},
   "outputs": [
    {
     "name": "stdout",
     "output_type": "stream",
     "text": [
      "end of continuation\n"
     ]
    },
    {
     "data": {
      "text/plain": [
       "45"
      ]
     },
     "execution_count": 3,
     "metadata": {},
     "output_type": "execute_result"
    }
   ],
   "source": [
    "def list_sum_k(xs,cc=end_cc):\n",
    "    if xs == []:\n",
    "        return cc(0)\n",
    "    else:\n",
    "        return list_sum_k(xs[1:],lambda v : cc(add(xs[0],v)))\n",
    "        \n",
    "list_sum_k(list(range(10)))"
   ]
  }
 ],
 "metadata": {
  "kernelspec": {
   "display_name": "Python 3",
   "language": "python",
   "name": "python3"
  },
  "language_info": {
   "codemirror_mode": {
    "name": "ipython",
    "version": 3
   },
   "file_extension": ".py",
   "mimetype": "text/x-python",
   "name": "python",
   "nbconvert_exporter": "python",
   "pygments_lexer": "ipython3",
   "version": "3.10.11"
  },
  "orig_nbformat": 4
 },
 "nbformat": 4,
 "nbformat_minor": 2
}
